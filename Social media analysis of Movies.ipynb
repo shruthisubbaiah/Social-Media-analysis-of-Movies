{
 "cells": [
  {
   "cell_type": "markdown",
   "metadata": {},
   "source": [
    "# Social media analysis of Movies \n",
    "\n",
    "This project aims to model a database around the Movies domain. I have used IMDB to scrape movie details (like name, description, genre, actors) of movies  released in 2018. \n",
    "I will be integrating this with Twitter and Facebook data, for tagging, sentiment analysis, engagement analysis, reach analysis and personalized recommendation, to answer questions related to users, posts and movies using Text mining and Natural Language Processing."
   ]
  },
  {
   "cell_type": "code",
   "execution_count": 1,
   "metadata": {
    "collapsed": true
   },
   "outputs": [],
   "source": [
    "#calling dependencies\n",
    "import pandas as pd\n",
    "import numpy as np\n",
    "import sqlite3"
   ]
  },
  {
   "cell_type": "markdown",
   "metadata": {},
   "source": [
    "## Datasets\n",
    "-imdb_movie_dataset.csv has the movie titles,genre,actors,movie description, rating. This was scraped from the IMDB website. \n",
    "\n",
    "-post_data_fb.csv has the Posts retrived from Facebook using the API\n",
    "\n",
    "-comments_posts_fb.csv has the comments of the posts (above), retrieved using the Facebook API\n",
    "\n",
    "-Tweets.csv has the Tweets and users(Twitter users) details, retireved using the Twitter API\n",
    "\n",
    "-Movie_Tweets.csv has all the tweets retrieved for a particular movie consolidated into a single string.\n",
    "\n",
    "The script to get Tweets and Posts from Twitter and Facebook is hosted on AWS, to keep it running so that I get a lot of data to work on. The script writes the data to the CSVs."
   ]
  },
  {
   "cell_type": "markdown",
   "metadata": {},
   "source": [
    "Facebook and Twitter give us different kinds of data, so I plan on making use of this difference to get answers to a variety of questions, using either one or both of the sources combined."
   ]
  },
  {
   "cell_type": "markdown",
   "metadata": {},
   "source": [
    "# Tagging\n",
    "\n",
    "I have used Tf-idf to determine what words are used frequently while talking about a certain movie. I have compared the consolidated tweets of different movies."
   ]
  },
  {
   "cell_type": "code",
   "execution_count": null,
   "metadata": {
    "collapsed": true
   },
   "outputs": [],
   "source": [
    "nltk.download('stopwords')\n",
    "from nltk.corpus import stopwords\n",
    "import string\n",
    "import math"
   ]
  },
  {
   "cell_type": "code",
   "execution_count": null,
   "metadata": {
    "collapsed": true
   },
   "outputs": [],
   "source": [
    "#Each blob is a document of colsolidated tweets of a movie. \n",
    "#Bloblist is a list of all 35 Blobs corresponding to the 35 movies\n",
    "\n",
    "movie_tweets=pd.read_csv(\"Movie_Tweets.csv\")\n",
    "\n",
    "for tweets in movie_tweets.itertuples():\n",
    "    print tb(str(tweets[3]).decode('utf-8'))\n",
    "bloblist=[]\n",
    "\n",
    "for tweets in movie_tweets.itertuples():\n",
    "    bloblist.append(tb(str(tweets[3]).decode('utf-8')))"
   ]
  },
  {
   "cell_type": "markdown",
   "metadata": {},
   "source": [
    "# Tf-Idf "
   ]
  },
  {
   "cell_type": "code",
   "execution_count": null,
   "metadata": {
    "collapsed": true
   },
   "outputs": [],
   "source": [
    "from __future__ import division\n",
    "\n",
    "def tf(word, blob):\n",
    "    return blob.words.count(word) / len(blob.words)\n",
    "\n",
    "def n_containing(word, bloblist):\n",
    "    n=0\n",
    "    for blob in bloblist:\n",
    "        if word in blob.words:\n",
    "            n=n+1\n",
    "    return n\n",
    "\n",
    "def idf(word, bloblist):\n",
    "    return math.log(len(bloblist) / (1 + n_containing(word, bloblist)))\n",
    "\n",
    "def tfidf(word, blob, bloblist):\n",
    "    return tf(word, blob) * idf(word, bloblist)\n",
    "\n"
   ]
  },
  {
   "cell_type": "code",
   "execution_count": null,
   "metadata": {
    "collapsed": true
   },
   "outputs": [],
   "source": [
    "#Generating scores for all words in the tweets, after removing Stopwords, punctuations \n",
    "punctuation = list(string.punctuation)\n",
    "stop = stopwords.words('english') + punctuation + ['rt','RT','via']\n",
    "\n",
    "scores=pd.DataFrame(pd.DataFrame(columns=['movie_id','word','score']))\n",
    "i=1\n",
    "j=0\n",
    "for blob in bloblist:\n",
    "    for word in blob.words:\n",
    "        if word not in stop and word.isalpha():\n",
    "            scores.loc[str(i)]=[movie_ids[j],word,tfidf(word, blob, bloblist)]\n",
    "            i=i+1\n",
    "    j=j+1\n",
    "    \n",
    "#Sort the words on basis of the scores, and keep only the 5 highest scoring words for each movie.\n",
    "#These 5 most frequent and RELEVANT words are the Tags for that movie\n",
    "scores=scores.sort_values(by=['score'],ascending=0)\n",
    "scores=scores.drop_duplicates(keep='first')\n",
    "scores=scores.groupby('movie_id').head(5).reset_index(drop=True)"
   ]
  },
  {
   "cell_type": "code",
   "execution_count": 2,
   "metadata": {
    "collapsed": true
   },
   "outputs": [],
   "source": [
    "#reading the movie dataset\n",
    "movie_data = pd.read_csv(\"imdb_movie_dataset.csv\")"
   ]
  },
  {
   "cell_type": "code",
   "execution_count": 3,
   "metadata": {
    "collapsed": true
   },
   "outputs": [],
   "source": [
    "#reading post dataset\n",
    "post_data = pd.read_csv(\"post_data_fb.csv\")\n",
    "post_data = post_data.drop(['Unnamed: 0'], axis = 1)"
   ]
  },
  {
   "cell_type": "code",
   "execution_count": 4,
   "metadata": {
    "collapsed": true
   },
   "outputs": [],
   "source": [
    "#reading comment dataset\n",
    "comment_data = pd.read_csv(\"comments_posts_fb.csv\")\n",
    "comment_data = comment_data.drop(['Unnamed: 0'], axis = 1)"
   ]
  },
  {
   "cell_type": "code",
   "execution_count": 42,
   "metadata": {
    "collapsed": true
   },
   "outputs": [],
   "source": [
    "#reading tweets database\n",
    "tweets_data = pd.read_csv(\"Tweets.csv\")"
   ]
  },
  {
   "cell_type": "code",
   "execution_count": 59,
   "metadata": {},
   "outputs": [
    {
     "data": {
      "text/html": [
       "<div>\n",
       "<style>\n",
       "    .dataframe thead tr:only-child th {\n",
       "        text-align: right;\n",
       "    }\n",
       "\n",
       "    .dataframe thead th {\n",
       "        text-align: left;\n",
       "    }\n",
       "\n",
       "    .dataframe tbody tr th {\n",
       "        vertical-align: top;\n",
       "    }\n",
       "</style>\n",
       "<table border=\"1\" class=\"dataframe\">\n",
       "  <thead>\n",
       "    <tr style=\"text-align: right;\">\n",
       "      <th></th>\n",
       "      <th>movie_id</th>\n",
       "      <th>word</th>\n",
       "      <th>score</th>\n",
       "    </tr>\n",
       "  </thead>\n",
       "  <tbody>\n",
       "    <tr>\n",
       "      <th>0</th>\n",
       "      <td>1.730030e+14</td>\n",
       "      <td>NaN</td>\n",
       "      <td>2.456736</td>\n",
       "    </tr>\n",
       "    <tr>\n",
       "      <th>1</th>\n",
       "      <td>1.264810e+14</td>\n",
       "      <td>NaN</td>\n",
       "      <td>2.456736</td>\n",
       "    </tr>\n",
       "    <tr>\n",
       "      <th>2</th>\n",
       "      <td>3.727420e+14</td>\n",
       "      <td>mazerunnermovie</td>\n",
       "      <td>0.301284</td>\n",
       "    </tr>\n",
       "    <tr>\n",
       "      <th>3</th>\n",
       "      <td>3.727420e+14</td>\n",
       "      <td>dylanobrien</td>\n",
       "      <td>0.301284</td>\n",
       "    </tr>\n",
       "    <tr>\n",
       "      <th>4</th>\n",
       "      <td>3.727420e+14</td>\n",
       "      <td>sangsterthomas</td>\n",
       "      <td>0.301284</td>\n",
       "    </tr>\n",
       "  </tbody>\n",
       "</table>\n",
       "</div>"
      ],
      "text/plain": [
       "       movie_id             word     score\n",
       "0  1.730030e+14              NaN  2.456736\n",
       "1  1.264810e+14              NaN  2.456736\n",
       "2  3.727420e+14  mazerunnermovie  0.301284\n",
       "3  3.727420e+14      dylanobrien  0.301284\n",
       "4  3.727420e+14   sangsterthomas  0.301284"
      ]
     },
     "execution_count": 59,
     "metadata": {},
     "output_type": "execute_result"
    }
   ],
   "source": [
    "#reading the scores\n",
    "tag_scores = pd.read_csv(\"scores.csv\")\n",
    "tag_scores = tag_scores[['movie_id', 'word', 'score']]\n",
    "tag_scores.head()"
   ]
  },
  {
   "cell_type": "markdown",
   "metadata": {},
   "source": [
    "## Creating master tables and normalizing the data in 3rd Normal form\n"
   ]
  },
  {
   "cell_type": "code",
   "execution_count": 6,
   "metadata": {},
   "outputs": [
    {
     "data": {
      "text/html": [
       "<div>\n",
       "<style>\n",
       "    .dataframe thead tr:only-child th {\n",
       "        text-align: right;\n",
       "    }\n",
       "\n",
       "    .dataframe thead th {\n",
       "        text-align: left;\n",
       "    }\n",
       "\n",
       "    .dataframe tbody tr th {\n",
       "        vertical-align: top;\n",
       "    }\n",
       "</style>\n",
       "<table border=\"1\" class=\"dataframe\">\n",
       "  <thead>\n",
       "    <tr style=\"text-align: right;\">\n",
       "      <th></th>\n",
       "      <th>movie_id</th>\n",
       "      <th>movie_names</th>\n",
       "      <th>movie_description</th>\n",
       "      <th>imdb_ratings</th>\n",
       "      <th>metascores</th>\n",
       "      <th>runtime</th>\n",
       "      <th>gross_value</th>\n",
       "      <th>year_release</th>\n",
       "    </tr>\n",
       "  </thead>\n",
       "  <tbody>\n",
       "    <tr>\n",
       "      <th>0</th>\n",
       "      <td>6.350540e+14</td>\n",
       "      <td>Black Panther</td>\n",
       "      <td>[\"T'Challa, the King of Wakanda, rises to the ...</td>\n",
       "      <td>7.9</td>\n",
       "      <td>88</td>\n",
       "      <td>134</td>\n",
       "      <td>291954422.0</td>\n",
       "      <td>2018</td>\n",
       "    </tr>\n",
       "    <tr>\n",
       "      <th>16</th>\n",
       "      <td>1.071120e+15</td>\n",
       "      <td>The Cloverfield Paradox</td>\n",
       "      <td>['Orbiting a planet on the brink of war, scien...</td>\n",
       "      <td>5.7</td>\n",
       "      <td>37</td>\n",
       "      <td>102</td>\n",
       "      <td>NaN</td>\n",
       "      <td>2018</td>\n",
       "    </tr>\n",
       "    <tr>\n",
       "      <th>32</th>\n",
       "      <td>3.727420e+14</td>\n",
       "      <td>Maze Runner: The Death Cure</td>\n",
       "      <td>['Young hero Thomas embarks on a mission to fi...</td>\n",
       "      <td>6.8</td>\n",
       "      <td>51</td>\n",
       "      <td>141</td>\n",
       "      <td>55366604.0</td>\n",
       "      <td>2018</td>\n",
       "    </tr>\n",
       "  </tbody>\n",
       "</table>\n",
       "</div>"
      ],
      "text/plain": [
       "        movie_id                  movie_names  \\\n",
       "0   6.350540e+14                Black Panther   \n",
       "16  1.071120e+15      The Cloverfield Paradox   \n",
       "32  3.727420e+14  Maze Runner: The Death Cure   \n",
       "\n",
       "                                    movie_description  imdb_ratings  \\\n",
       "0   [\"T'Challa, the King of Wakanda, rises to the ...           7.9   \n",
       "16  ['Orbiting a planet on the brink of war, scien...           5.7   \n",
       "32  ['Young hero Thomas embarks on a mission to fi...           6.8   \n",
       "\n",
       "    metascores  runtime  gross_value  year_release  \n",
       "0           88      134  291954422.0          2018  \n",
       "16          37      102          NaN          2018  \n",
       "32          51      141   55366604.0          2018  "
      ]
     },
     "execution_count": 6,
     "metadata": {},
     "output_type": "execute_result"
    }
   ],
   "source": [
    "#main table - All the other tables will be connected to this one\n",
    "movie_master_table = pd.DataFrame()\n",
    "movie_master_table[['movie_id','movie_names','movie_description','imdb_ratings','metascores','runtime','gross_value','year_release']] = movie_data[['Movie_id','movie_names','movie_description','imdb_ratings','metscores','runtime','gross_value','year_release']]\n",
    "movie_master_table = movie_master_table.drop_duplicates()\n",
    "movie_master_table.head(3)"
   ]
  },
  {
   "cell_type": "code",
   "execution_count": 7,
   "metadata": {},
   "outputs": [
    {
     "data": {
      "text/html": [
       "<div>\n",
       "<style>\n",
       "    .dataframe thead tr:only-child th {\n",
       "        text-align: right;\n",
       "    }\n",
       "\n",
       "    .dataframe thead th {\n",
       "        text-align: left;\n",
       "    }\n",
       "\n",
       "    .dataframe tbody tr th {\n",
       "        vertical-align: top;\n",
       "    }\n",
       "</style>\n",
       "<table border=\"1\" class=\"dataframe\">\n",
       "  <thead>\n",
       "    <tr style=\"text-align: right;\">\n",
       "      <th></th>\n",
       "      <th>starcast_id</th>\n",
       "      <th>starcast_name</th>\n",
       "    </tr>\n",
       "  </thead>\n",
       "  <tbody>\n",
       "    <tr>\n",
       "      <th>0</th>\n",
       "      <td>10676</td>\n",
       "      <td>Ryan Coogler</td>\n",
       "    </tr>\n",
       "    <tr>\n",
       "      <th>4</th>\n",
       "      <td>10677</td>\n",
       "      <td>Chadwick Boseman</td>\n",
       "    </tr>\n",
       "    <tr>\n",
       "      <th>8</th>\n",
       "      <td>10678</td>\n",
       "      <td>Michael B. Jordan</td>\n",
       "    </tr>\n",
       "  </tbody>\n",
       "</table>\n",
       "</div>"
      ],
      "text/plain": [
       "   starcast_id      starcast_name\n",
       "0        10676       Ryan Coogler\n",
       "4        10677   Chadwick Boseman\n",
       "8        10678  Michael B. Jordan"
      ]
     },
     "execution_count": 7,
     "metadata": {},
     "output_type": "execute_result"
    }
   ],
   "source": [
    "#starcast main table - this will connect to movie table using a seperate relational table\n",
    "starcast_master_table = pd.DataFrame()\n",
    "starcast_master_table[['starcast_id','starcast_name']] = movie_data[['star_cast_id','star_cast']]\n",
    "starcast_master_table = starcast_master_table.drop_duplicates()\n",
    "starcast_master_table.head(3)"
   ]
  },
  {
   "cell_type": "code",
   "execution_count": 8,
   "metadata": {},
   "outputs": [
    {
     "data": {
      "text/html": [
       "<div>\n",
       "<style>\n",
       "    .dataframe thead tr:only-child th {\n",
       "        text-align: right;\n",
       "    }\n",
       "\n",
       "    .dataframe thead th {\n",
       "        text-align: left;\n",
       "    }\n",
       "\n",
       "    .dataframe tbody tr th {\n",
       "        vertical-align: top;\n",
       "    }\n",
       "</style>\n",
       "<table border=\"1\" class=\"dataframe\">\n",
       "  <thead>\n",
       "    <tr style=\"text-align: right;\">\n",
       "      <th></th>\n",
       "      <th>director_id</th>\n",
       "      <th>director_name</th>\n",
       "    </tr>\n",
       "  </thead>\n",
       "  <tbody>\n",
       "    <tr>\n",
       "      <th>0</th>\n",
       "      <td>1350</td>\n",
       "      <td>Ryan Coogler</td>\n",
       "    </tr>\n",
       "    <tr>\n",
       "      <th>16</th>\n",
       "      <td>1351</td>\n",
       "      <td>Julius Onah</td>\n",
       "    </tr>\n",
       "    <tr>\n",
       "      <th>32</th>\n",
       "      <td>1352</td>\n",
       "      <td>Wes Ball</td>\n",
       "    </tr>\n",
       "  </tbody>\n",
       "</table>\n",
       "</div>"
      ],
      "text/plain": [
       "    director_id director_name\n",
       "0          1350  Ryan Coogler\n",
       "16         1351   Julius Onah\n",
       "32         1352      Wes Ball"
      ]
     },
     "execution_count": 8,
     "metadata": {},
     "output_type": "execute_result"
    }
   ],
   "source": [
    "#director main table - this will connect to movie table using a seperate relational table\n",
    "director_master_table = pd.DataFrame()\n",
    "director_master_table[['director_id','director_name']] = movie_data[['director_id','director_name']]\n",
    "director_master_table = director_master_table.drop_duplicates()\n",
    "director_master_table.head(3)"
   ]
  },
  {
   "cell_type": "code",
   "execution_count": 9,
   "metadata": {},
   "outputs": [
    {
     "data": {
      "text/html": [
       "<div>\n",
       "<style>\n",
       "    .dataframe thead tr:only-child th {\n",
       "        text-align: right;\n",
       "    }\n",
       "\n",
       "    .dataframe thead th {\n",
       "        text-align: left;\n",
       "    }\n",
       "\n",
       "    .dataframe tbody tr th {\n",
       "        vertical-align: top;\n",
       "    }\n",
       "</style>\n",
       "<table border=\"1\" class=\"dataframe\">\n",
       "  <thead>\n",
       "    <tr style=\"text-align: right;\">\n",
       "      <th></th>\n",
       "      <th>genre_id</th>\n",
       "      <th>genre</th>\n",
       "    </tr>\n",
       "  </thead>\n",
       "  <tbody>\n",
       "    <tr>\n",
       "      <th>0</th>\n",
       "      <td>100</td>\n",
       "      <td>Action</td>\n",
       "    </tr>\n",
       "    <tr>\n",
       "      <th>1</th>\n",
       "      <td>104</td>\n",
       "      <td>Adventure</td>\n",
       "    </tr>\n",
       "    <tr>\n",
       "      <th>2</th>\n",
       "      <td>102</td>\n",
       "      <td>Sci</td>\n",
       "    </tr>\n",
       "  </tbody>\n",
       "</table>\n",
       "</div>"
      ],
      "text/plain": [
       "   genre_id      genre\n",
       "0       100     Action\n",
       "1       104  Adventure\n",
       "2       102        Sci"
      ]
     },
     "execution_count": 9,
     "metadata": {},
     "output_type": "execute_result"
    }
   ],
   "source": [
    "#genre main table - this will connect to movie table using a seperate relational table\n",
    "genre_master_table = pd.DataFrame()\n",
    "genre_master_table[['genre_id','genre']] = movie_data[['genre_id','genre']]\n",
    "genre_master_table = genre_master_table.drop_duplicates()\n",
    "genre_master_table.head(3)"
   ]
  },
  {
   "cell_type": "code",
   "execution_count": 10,
   "metadata": {},
   "outputs": [
    {
     "data": {
      "text/html": [
       "<div>\n",
       "<style>\n",
       "    .dataframe thead tr:only-child th {\n",
       "        text-align: right;\n",
       "    }\n",
       "\n",
       "    .dataframe thead th {\n",
       "        text-align: left;\n",
       "    }\n",
       "\n",
       "    .dataframe tbody tr th {\n",
       "        vertical-align: top;\n",
       "    }\n",
       "</style>\n",
       "<table border=\"1\" class=\"dataframe\">\n",
       "  <thead>\n",
       "    <tr style=\"text-align: right;\">\n",
       "      <th></th>\n",
       "      <th>post_id</th>\n",
       "      <th>created_at</th>\n",
       "      <th>post_message</th>\n",
       "      <th>likes_count</th>\n",
       "      <th>share_count</th>\n",
       "      <th>comments_count</th>\n",
       "      <th>user_engagement</th>\n",
       "    </tr>\n",
       "  </thead>\n",
       "  <tbody>\n",
       "    <tr>\n",
       "      <th>0</th>\n",
       "      <td>458711740828112_1857840717581867</td>\n",
       "      <td>2018-03-12 20:00:00</td>\n",
       "      <td>NaN</td>\n",
       "      <td>6</td>\n",
       "      <td>4.0</td>\n",
       "      <td>2</td>\n",
       "      <td>12</td>\n",
       "    </tr>\n",
       "    <tr>\n",
       "      <th>1</th>\n",
       "      <td>458711740828112_1858124704220135</td>\n",
       "      <td>2018-03-12 19:45:00</td>\n",
       "      <td>NaN</td>\n",
       "      <td>7</td>\n",
       "      <td>4.0</td>\n",
       "      <td>0</td>\n",
       "      <td>11</td>\n",
       "    </tr>\n",
       "    <tr>\n",
       "      <th>2</th>\n",
       "      <td>458711740828112_1857840970915175</td>\n",
       "      <td>2018-03-12 19:30:00</td>\n",
       "      <td>NaN</td>\n",
       "      <td>17</td>\n",
       "      <td>5.0</td>\n",
       "      <td>0</td>\n",
       "      <td>22</td>\n",
       "    </tr>\n",
       "  </tbody>\n",
       "</table>\n",
       "</div>"
      ],
      "text/plain": [
       "                            post_id          created_at post_message  \\\n",
       "0  458711740828112_1857840717581867 2018-03-12 20:00:00          NaN   \n",
       "1  458711740828112_1858124704220135 2018-03-12 19:45:00          NaN   \n",
       "2  458711740828112_1857840970915175 2018-03-12 19:30:00          NaN   \n",
       "\n",
       "   likes_count  share_count  comments_count  user_engagement  \n",
       "0            6          4.0               2               12  \n",
       "1            7          4.0               0               11  \n",
       "2           17          5.0               0               22  "
      ]
     },
     "execution_count": 10,
     "metadata": {},
     "output_type": "execute_result"
    }
   ],
   "source": [
    "#posts main table - this will connect to movie table using a seperate relational table (these are posts from facebook)\n",
    "posts_master_table = pd.DataFrame()\n",
    "posts_master_table[['post_id','created_at','post_message','likes_count','share_count','comments_count','user_engagement']] = post_data[['post_id','created_at','post_message','post_likes_count','post_shares_count','post_comment_count','user_engagement']]\n",
    "posts_master_table = posts_master_table.drop_duplicates()\n",
    "posts_master_table['created_at'] = posts_master_table['created_at'].astype('datetime64[ns]')\n",
    "posts_master_table.head(3)"
   ]
  },
  {
   "cell_type": "code",
   "execution_count": 11,
   "metadata": {},
   "outputs": [
    {
     "data": {
      "text/html": [
       "<div>\n",
       "<style>\n",
       "    .dataframe thead tr:only-child th {\n",
       "        text-align: right;\n",
       "    }\n",
       "\n",
       "    .dataframe thead th {\n",
       "        text-align: left;\n",
       "    }\n",
       "\n",
       "    .dataframe tbody tr th {\n",
       "        vertical-align: top;\n",
       "    }\n",
       "</style>\n",
       "<table border=\"1\" class=\"dataframe\">\n",
       "  <thead>\n",
       "    <tr style=\"text-align: right;\">\n",
       "      <th></th>\n",
       "      <th>comments_id</th>\n",
       "      <th>created_at</th>\n",
       "      <th>comments</th>\n",
       "    </tr>\n",
       "  </thead>\n",
       "  <tbody>\n",
       "    <tr>\n",
       "      <th>0</th>\n",
       "      <td>1857840717581867_1858341727531766</td>\n",
       "      <td>2018-03-12 20:06:32</td>\n",
       "      <td>NaN</td>\n",
       "    </tr>\n",
       "    <tr>\n",
       "      <th>1</th>\n",
       "      <td>1857840717581867_1858346307531308</td>\n",
       "      <td>2018-03-12 20:11:39</td>\n",
       "      <td>Vero grazie, buonanotte</td>\n",
       "    </tr>\n",
       "    <tr>\n",
       "      <th>2</th>\n",
       "      <td>1857951664237439_1858307817535157</td>\n",
       "      <td>2018-03-12 19:21:25</td>\n",
       "      <td>Mia</td>\n",
       "    </tr>\n",
       "  </tbody>\n",
       "</table>\n",
       "</div>"
      ],
      "text/plain": [
       "                         comments_id          created_at  \\\n",
       "0  1857840717581867_1858341727531766 2018-03-12 20:06:32   \n",
       "1  1857840717581867_1858346307531308 2018-03-12 20:11:39   \n",
       "2  1857951664237439_1858307817535157 2018-03-12 19:21:25   \n",
       "\n",
       "                  comments  \n",
       "0                      NaN  \n",
       "1  Vero grazie, buonanotte  \n",
       "2                      Mia  "
      ]
     },
     "execution_count": 11,
     "metadata": {},
     "output_type": "execute_result"
    }
   ],
   "source": [
    "#comments main table - this will connect to posts table using a seperate relational table\n",
    "comments_master_table = pd.DataFrame()\n",
    "comments_master_table[['comments_id','created_at','comments']] = comment_data[['comments_id','created_at','post_comments']]\n",
    "comments_master_table = comments_master_table.drop_duplicates()\n",
    "comments_master_table['created_at'] = comments_master_table['created_at'].astype('datetime64[ns]')\n",
    "comments_master_table.head(3)"
   ]
  },
  {
   "cell_type": "code",
   "execution_count": 12,
   "metadata": {},
   "outputs": [
    {
     "data": {
      "text/html": [
       "<div>\n",
       "<style>\n",
       "    .dataframe thead tr:only-child th {\n",
       "        text-align: right;\n",
       "    }\n",
       "\n",
       "    .dataframe thead th {\n",
       "        text-align: left;\n",
       "    }\n",
       "\n",
       "    .dataframe tbody tr th {\n",
       "        vertical-align: top;\n",
       "    }\n",
       "</style>\n",
       "<table border=\"1\" class=\"dataframe\">\n",
       "  <thead>\n",
       "    <tr style=\"text-align: right;\">\n",
       "      <th></th>\n",
       "      <th>tweet_id</th>\n",
       "      <th>tweet_text</th>\n",
       "      <th>created_date</th>\n",
       "      <th>retweet_count</th>\n",
       "    </tr>\n",
       "  </thead>\n",
       "  <tbody>\n",
       "    <tr>\n",
       "      <th>0</th>\n",
       "      <td>1111</td>\n",
       "      <td>Just saw #BlackPanther and now I keep randomly...</td>\n",
       "      <td>Sat Mar 17 20:41:14 +0000 2018</td>\n",
       "      <td>0</td>\n",
       "    </tr>\n",
       "    <tr>\n",
       "      <th>1</th>\n",
       "      <td>1112</td>\n",
       "      <td>RT @WakaFlocka: We Got Him OUT!!! #DanielKaluu...</td>\n",
       "      <td>Sat Mar 17 20:41:13 +0000 2018</td>\n",
       "      <td>96</td>\n",
       "    </tr>\n",
       "    <tr>\n",
       "      <th>2</th>\n",
       "      <td>1113</td>\n",
       "      <td>RT @GeeksOfColor: The Dora Milaje Take Center ...</td>\n",
       "      <td>Sat Mar 17 20:41:00 +0000 2018</td>\n",
       "      <td>281</td>\n",
       "    </tr>\n",
       "  </tbody>\n",
       "</table>\n",
       "</div>"
      ],
      "text/plain": [
       "   tweet_id                                         tweet_text  \\\n",
       "0      1111  Just saw #BlackPanther and now I keep randomly...   \n",
       "1      1112  RT @WakaFlocka: We Got Him OUT!!! #DanielKaluu...   \n",
       "2      1113  RT @GeeksOfColor: The Dora Milaje Take Center ...   \n",
       "\n",
       "                     created_date  retweet_count  \n",
       "0  Sat Mar 17 20:41:14 +0000 2018              0  \n",
       "1  Sat Mar 17 20:41:13 +0000 2018             96  \n",
       "2  Sat Mar 17 20:41:00 +0000 2018            281  "
      ]
     },
     "execution_count": 12,
     "metadata": {},
     "output_type": "execute_result"
    }
   ],
   "source": [
    "#tweets main table - this will connect the tweets to the movies\n",
    "tweets_master_table = pd.DataFrame()\n",
    "tweets_master_table[['tweet_id','tweet_text', 'created_date', 'retweet_count']] = tweets_data[['tweet_id','tweet_text','created_date','retweet_count']]\n",
    "tweets_master_table = tweets_master_table.drop_duplicates()\n",
    "tweets_master_table.head(3)"
   ]
  },
  {
   "cell_type": "code",
   "execution_count": 44,
   "metadata": {},
   "outputs": [
    {
     "data": {
      "text/html": [
       "<div>\n",
       "<style>\n",
       "    .dataframe thead tr:only-child th {\n",
       "        text-align: right;\n",
       "    }\n",
       "\n",
       "    .dataframe thead th {\n",
       "        text-align: left;\n",
       "    }\n",
       "\n",
       "    .dataframe tbody tr th {\n",
       "        vertical-align: top;\n",
       "    }\n",
       "</style>\n",
       "<table border=\"1\" class=\"dataframe\">\n",
       "  <thead>\n",
       "    <tr style=\"text-align: right;\">\n",
       "      <th></th>\n",
       "      <th>user_id</th>\n",
       "      <th>user_name</th>\n",
       "    </tr>\n",
       "  </thead>\n",
       "  <tbody>\n",
       "    <tr>\n",
       "      <th>0</th>\n",
       "      <td>121211</td>\n",
       "      <td>happyhealthyacw</td>\n",
       "    </tr>\n",
       "    <tr>\n",
       "      <th>1</th>\n",
       "      <td>121212</td>\n",
       "      <td>ClintonS_anchez</td>\n",
       "    </tr>\n",
       "    <tr>\n",
       "      <th>2</th>\n",
       "      <td>121213</td>\n",
       "      <td>blackaqualad</td>\n",
       "    </tr>\n",
       "  </tbody>\n",
       "</table>\n",
       "</div>"
      ],
      "text/plain": [
       "   user_id        user_name\n",
       "0   121211  happyhealthyacw\n",
       "1   121212  ClintonS_anchez\n",
       "2   121213     blackaqualad"
      ]
     },
     "execution_count": 44,
     "metadata": {},
     "output_type": "execute_result"
    }
   ],
   "source": [
    "#twitter user table - this links the user with tweets\n",
    "twitter_user_table = pd.DataFrame()\n",
    "twitter_user_table[['user_id','user_name']] = tweets_data[['user_id','screen_name']]\n",
    "twitter_user_table = twitter_user_table.drop_duplicates()\n",
    "twitter_user_table.head(3)"
   ]
  },
  {
   "cell_type": "markdown",
   "metadata": {},
   "source": [
    "## Creating Mappings between all the tables\n",
    "\n",
    "Here, we create seperate mapping tables between the database tables in order to perform join statements.\n"
   ]
  },
  {
   "cell_type": "code",
   "execution_count": 15,
   "metadata": {},
   "outputs": [
    {
     "data": {
      "text/html": [
       "<div>\n",
       "<style>\n",
       "    .dataframe thead tr:only-child th {\n",
       "        text-align: right;\n",
       "    }\n",
       "\n",
       "    .dataframe thead th {\n",
       "        text-align: left;\n",
       "    }\n",
       "\n",
       "    .dataframe tbody tr th {\n",
       "        vertical-align: top;\n",
       "    }\n",
       "</style>\n",
       "<table border=\"1\" class=\"dataframe\">\n",
       "  <thead>\n",
       "    <tr style=\"text-align: right;\">\n",
       "      <th></th>\n",
       "      <th>movie_id</th>\n",
       "      <th>director_id</th>\n",
       "    </tr>\n",
       "  </thead>\n",
       "  <tbody>\n",
       "    <tr>\n",
       "      <th>0</th>\n",
       "      <td>6.350540e+14</td>\n",
       "      <td>1350</td>\n",
       "    </tr>\n",
       "    <tr>\n",
       "      <th>16</th>\n",
       "      <td>1.071120e+15</td>\n",
       "      <td>1351</td>\n",
       "    </tr>\n",
       "    <tr>\n",
       "      <th>32</th>\n",
       "      <td>3.727420e+14</td>\n",
       "      <td>1352</td>\n",
       "    </tr>\n",
       "  </tbody>\n",
       "</table>\n",
       "</div>"
      ],
      "text/plain": [
       "        movie_id  director_id\n",
       "0   6.350540e+14         1350\n",
       "16  1.071120e+15         1351\n",
       "32  3.727420e+14         1352"
      ]
     },
     "execution_count": 15,
     "metadata": {},
     "output_type": "execute_result"
    }
   ],
   "source": [
    "#movie-director mapping\n",
    "movie_director_maping = pd.DataFrame()\n",
    "movie_director_maping[['movie_id','director_id']] = movie_data[['Movie_id','director_id']]\n",
    "movie_director_maping = movie_director_maping.drop_duplicates()\n",
    "movie_director_maping.head(3)"
   ]
  },
  {
   "cell_type": "code",
   "execution_count": 16,
   "metadata": {},
   "outputs": [
    {
     "data": {
      "text/html": [
       "<div>\n",
       "<style>\n",
       "    .dataframe thead tr:only-child th {\n",
       "        text-align: right;\n",
       "    }\n",
       "\n",
       "    .dataframe thead th {\n",
       "        text-align: left;\n",
       "    }\n",
       "\n",
       "    .dataframe tbody tr th {\n",
       "        vertical-align: top;\n",
       "    }\n",
       "</style>\n",
       "<table border=\"1\" class=\"dataframe\">\n",
       "  <thead>\n",
       "    <tr style=\"text-align: right;\">\n",
       "      <th></th>\n",
       "      <th>movie_id</th>\n",
       "      <th>starcast_id</th>\n",
       "    </tr>\n",
       "  </thead>\n",
       "  <tbody>\n",
       "    <tr>\n",
       "      <th>0</th>\n",
       "      <td>6.350540e+14</td>\n",
       "      <td>10676</td>\n",
       "    </tr>\n",
       "    <tr>\n",
       "      <th>4</th>\n",
       "      <td>6.350540e+14</td>\n",
       "      <td>10677</td>\n",
       "    </tr>\n",
       "    <tr>\n",
       "      <th>8</th>\n",
       "      <td>6.350540e+14</td>\n",
       "      <td>10678</td>\n",
       "    </tr>\n",
       "  </tbody>\n",
       "</table>\n",
       "</div>"
      ],
      "text/plain": [
       "       movie_id  starcast_id\n",
       "0  6.350540e+14        10676\n",
       "4  6.350540e+14        10677\n",
       "8  6.350540e+14        10678"
      ]
     },
     "execution_count": 16,
     "metadata": {},
     "output_type": "execute_result"
    }
   ],
   "source": [
    "#movie-starcast mapping\n",
    "movie_starcast_maping = pd.DataFrame()\n",
    "movie_starcast_maping[['movie_id','starcast_id']] = movie_data[['Movie_id','star_cast_id']]\n",
    "movie_starcast_maping = movie_starcast_maping.drop_duplicates()\n",
    "movie_starcast_maping.head(3)"
   ]
  },
  {
   "cell_type": "code",
   "execution_count": 17,
   "metadata": {},
   "outputs": [
    {
     "data": {
      "text/html": [
       "<div>\n",
       "<style>\n",
       "    .dataframe thead tr:only-child th {\n",
       "        text-align: right;\n",
       "    }\n",
       "\n",
       "    .dataframe thead th {\n",
       "        text-align: left;\n",
       "    }\n",
       "\n",
       "    .dataframe tbody tr th {\n",
       "        vertical-align: top;\n",
       "    }\n",
       "</style>\n",
       "<table border=\"1\" class=\"dataframe\">\n",
       "  <thead>\n",
       "    <tr style=\"text-align: right;\">\n",
       "      <th></th>\n",
       "      <th>movie_id</th>\n",
       "      <th>genre_id</th>\n",
       "    </tr>\n",
       "  </thead>\n",
       "  <tbody>\n",
       "    <tr>\n",
       "      <th>0</th>\n",
       "      <td>6.350540e+14</td>\n",
       "      <td>100</td>\n",
       "    </tr>\n",
       "    <tr>\n",
       "      <th>1</th>\n",
       "      <td>6.350540e+14</td>\n",
       "      <td>104</td>\n",
       "    </tr>\n",
       "    <tr>\n",
       "      <th>2</th>\n",
       "      <td>6.350540e+14</td>\n",
       "      <td>102</td>\n",
       "    </tr>\n",
       "  </tbody>\n",
       "</table>\n",
       "</div>"
      ],
      "text/plain": [
       "       movie_id  genre_id\n",
       "0  6.350540e+14       100\n",
       "1  6.350540e+14       104\n",
       "2  6.350540e+14       102"
      ]
     },
     "execution_count": 17,
     "metadata": {},
     "output_type": "execute_result"
    }
   ],
   "source": [
    "#movie-genre mapping\n",
    "movie_genre_maping = pd.DataFrame()\n",
    "movie_genre_maping[['movie_id','genre_id']] = movie_data[['Movie_id','genre_id']]\n",
    "movie_genre_maping = movie_genre_maping.drop_duplicates()\n",
    "movie_genre_maping.head(3)"
   ]
  },
  {
   "cell_type": "code",
   "execution_count": 18,
   "metadata": {},
   "outputs": [
    {
     "data": {
      "text/html": [
       "<div>\n",
       "<style>\n",
       "    .dataframe thead tr:only-child th {\n",
       "        text-align: right;\n",
       "    }\n",
       "\n",
       "    .dataframe thead th {\n",
       "        text-align: left;\n",
       "    }\n",
       "\n",
       "    .dataframe tbody tr th {\n",
       "        vertical-align: top;\n",
       "    }\n",
       "</style>\n",
       "<table border=\"1\" class=\"dataframe\">\n",
       "  <thead>\n",
       "    <tr style=\"text-align: right;\">\n",
       "      <th></th>\n",
       "      <th>movie_id</th>\n",
       "      <th>post_id</th>\n",
       "    </tr>\n",
       "  </thead>\n",
       "  <tbody>\n",
       "    <tr>\n",
       "      <th>0</th>\n",
       "      <td>6.350000e+14</td>\n",
       "      <td>458711740828112_1857840717581867</td>\n",
       "    </tr>\n",
       "    <tr>\n",
       "      <th>1</th>\n",
       "      <td>6.350000e+14</td>\n",
       "      <td>458711740828112_1858124704220135</td>\n",
       "    </tr>\n",
       "    <tr>\n",
       "      <th>2</th>\n",
       "      <td>6.350000e+14</td>\n",
       "      <td>458711740828112_1857840970915175</td>\n",
       "    </tr>\n",
       "  </tbody>\n",
       "</table>\n",
       "</div>"
      ],
      "text/plain": [
       "       movie_id                           post_id\n",
       "0  6.350000e+14  458711740828112_1857840717581867\n",
       "1  6.350000e+14  458711740828112_1858124704220135\n",
       "2  6.350000e+14  458711740828112_1857840970915175"
      ]
     },
     "execution_count": 18,
     "metadata": {},
     "output_type": "execute_result"
    }
   ],
   "source": [
    "#movie-post mapping\n",
    "movie_post_maping = pd.DataFrame()\n",
    "movie_post_maping[['movie_id','post_id']] = post_data[['movie_id','post_id']]\n",
    "movie_post_maping = movie_post_maping.drop_duplicates()\n",
    "movie_post_maping.head(3)"
   ]
  },
  {
   "cell_type": "code",
   "execution_count": 19,
   "metadata": {
    "scrolled": true
   },
   "outputs": [
    {
     "data": {
      "text/html": [
       "<div>\n",
       "<style>\n",
       "    .dataframe thead tr:only-child th {\n",
       "        text-align: right;\n",
       "    }\n",
       "\n",
       "    .dataframe thead th {\n",
       "        text-align: left;\n",
       "    }\n",
       "\n",
       "    .dataframe tbody tr th {\n",
       "        vertical-align: top;\n",
       "    }\n",
       "</style>\n",
       "<table border=\"1\" class=\"dataframe\">\n",
       "  <thead>\n",
       "    <tr style=\"text-align: right;\">\n",
       "      <th></th>\n",
       "      <th>post_id</th>\n",
       "      <th>comments_id</th>\n",
       "    </tr>\n",
       "  </thead>\n",
       "  <tbody>\n",
       "    <tr>\n",
       "      <th>0</th>\n",
       "      <td>458711740828112_1857840717581867</td>\n",
       "      <td>1857840717581867_1858341727531766</td>\n",
       "    </tr>\n",
       "    <tr>\n",
       "      <th>1</th>\n",
       "      <td>458711740828112_1857840717581867</td>\n",
       "      <td>1857840717581867_1858346307531308</td>\n",
       "    </tr>\n",
       "    <tr>\n",
       "      <th>2</th>\n",
       "      <td>458711740828112_1857951664237439</td>\n",
       "      <td>1857951664237439_1858307817535157</td>\n",
       "    </tr>\n",
       "  </tbody>\n",
       "</table>\n",
       "</div>"
      ],
      "text/plain": [
       "                            post_id                        comments_id\n",
       "0  458711740828112_1857840717581867  1857840717581867_1858341727531766\n",
       "1  458711740828112_1857840717581867  1857840717581867_1858346307531308\n",
       "2  458711740828112_1857951664237439  1857951664237439_1858307817535157"
      ]
     },
     "execution_count": 19,
     "metadata": {},
     "output_type": "execute_result"
    }
   ],
   "source": [
    "#post-comment mapping\n",
    "post_comment_maping = pd.DataFrame()\n",
    "post_comment_maping[['post_id','comments_id']] = comment_data[['post_id','comments_id']]\n",
    "post_comment_maping = post_comment_maping.drop_duplicates()\n",
    "post_comment_maping.head(3)"
   ]
  },
  {
   "cell_type": "code",
   "execution_count": 20,
   "metadata": {},
   "outputs": [
    {
     "data": {
      "text/html": [
       "<div>\n",
       "<style>\n",
       "    .dataframe thead tr:only-child th {\n",
       "        text-align: right;\n",
       "    }\n",
       "\n",
       "    .dataframe thead th {\n",
       "        text-align: left;\n",
       "    }\n",
       "\n",
       "    .dataframe tbody tr th {\n",
       "        vertical-align: top;\n",
       "    }\n",
       "</style>\n",
       "<table border=\"1\" class=\"dataframe\">\n",
       "  <thead>\n",
       "    <tr style=\"text-align: right;\">\n",
       "      <th></th>\n",
       "      <th>movie_id</th>\n",
       "      <th>tweet_id</th>\n",
       "    </tr>\n",
       "  </thead>\n",
       "  <tbody>\n",
       "    <tr>\n",
       "      <th>0</th>\n",
       "      <td>6.350000e+14</td>\n",
       "      <td>1111</td>\n",
       "    </tr>\n",
       "    <tr>\n",
       "      <th>1</th>\n",
       "      <td>6.350000e+14</td>\n",
       "      <td>1112</td>\n",
       "    </tr>\n",
       "    <tr>\n",
       "      <th>2</th>\n",
       "      <td>6.350000e+14</td>\n",
       "      <td>1113</td>\n",
       "    </tr>\n",
       "  </tbody>\n",
       "</table>\n",
       "</div>"
      ],
      "text/plain": [
       "       movie_id  tweet_id\n",
       "0  6.350000e+14      1111\n",
       "1  6.350000e+14      1112\n",
       "2  6.350000e+14      1113"
      ]
     },
     "execution_count": 20,
     "metadata": {},
     "output_type": "execute_result"
    }
   ],
   "source": [
    "#movie-tweets mapping\n",
    "movie_tweets_mapping = pd.DataFrame()\n",
    "movie_tweets_mapping[['movie_id','tweet_id']] = tweets_data[['movie_id','tweet_id']]\n",
    "movie_tweets_mapping = movie_tweets_mapping.drop_duplicates()\n",
    "movie_tweets_mapping.head(3)"
   ]
  },
  {
   "cell_type": "code",
   "execution_count": 43,
   "metadata": {},
   "outputs": [
    {
     "data": {
      "text/html": [
       "<div>\n",
       "<style>\n",
       "    .dataframe thead tr:only-child th {\n",
       "        text-align: right;\n",
       "    }\n",
       "\n",
       "    .dataframe thead th {\n",
       "        text-align: left;\n",
       "    }\n",
       "\n",
       "    .dataframe tbody tr th {\n",
       "        vertical-align: top;\n",
       "    }\n",
       "</style>\n",
       "<table border=\"1\" class=\"dataframe\">\n",
       "  <thead>\n",
       "    <tr style=\"text-align: right;\">\n",
       "      <th></th>\n",
       "      <th>tweet_id</th>\n",
       "      <th>user_id</th>\n",
       "    </tr>\n",
       "  </thead>\n",
       "  <tbody>\n",
       "    <tr>\n",
       "      <th>0</th>\n",
       "      <td>1111</td>\n",
       "      <td>121211</td>\n",
       "    </tr>\n",
       "    <tr>\n",
       "      <th>1</th>\n",
       "      <td>1112</td>\n",
       "      <td>121212</td>\n",
       "    </tr>\n",
       "    <tr>\n",
       "      <th>2</th>\n",
       "      <td>1113</td>\n",
       "      <td>121213</td>\n",
       "    </tr>\n",
       "  </tbody>\n",
       "</table>\n",
       "</div>"
      ],
      "text/plain": [
       "   tweet_id  user_id\n",
       "0      1111   121211\n",
       "1      1112   121212\n",
       "2      1113   121213"
      ]
     },
     "execution_count": 43,
     "metadata": {},
     "output_type": "execute_result"
    }
   ],
   "source": [
    "#tweets-user mapping\n",
    "tweets_user_mapping = pd.DataFrame()\n",
    "tweets_user_mapping[['tweet_id', 'user_id']] = tweets_data[['tweet_id','user_id']]\n",
    "tweets_user_mapping = tweets_user_mapping.drop_duplicates()\n",
    "tweets_user_mapping.head(3)"
   ]
  },
  {
   "cell_type": "markdown",
   "metadata": {},
   "source": [
    "## Creating databases\n",
    "\n",
    "Now that we have our schma and the tables for the database ready, let us start creating the tables in the databases and start storing the vales in them."
   ]
  },
  {
   "cell_type": "code",
   "execution_count": 22,
   "metadata": {
    "collapsed": true
   },
   "outputs": [],
   "source": [
    "#creating connections\n",
    "conn = sqlite3.connect(\"imdb_movie.db\") #creates and connects to a database named \"imdb_movie\"\n",
    "c = conn.cursor()"
   ]
  },
  {
   "cell_type": "code",
   "execution_count": 24,
   "metadata": {},
   "outputs": [
    {
     "data": {
      "text/plain": [
       "<sqlite3.Cursor at 0x22342a34880>"
      ]
     },
     "execution_count": 24,
     "metadata": {},
     "output_type": "execute_result"
    }
   ],
   "source": [
    "c.execute(\"\"\"DROP TABLE movie_master_table\"\"\")\n",
    "c.execute(\"\"\"CREATE TABLE movie_master_table(\n",
    "movie_id INTEGER PRIMARY KEY,\n",
    "movie_names CHAR(50),\n",
    "movie_description VARCHAR(200),\n",
    "imdb_ratings FLOAT,\n",
    "metascores INTEGER,\n",
    "runtime INTEGER,\n",
    "gross_value INTEGER,\n",
    "year_release CHAR(4));\"\"\") #creating a new tables within database"
   ]
  },
  {
   "cell_type": "code",
   "execution_count": 26,
   "metadata": {
    "collapsed": true
   },
   "outputs": [],
   "source": [
    "movie_master_table.to_sql(\"movie_master_table\", conn, if_exists = 'append', index = False) #Storing data frame to SQL database"
   ]
  },
  {
   "cell_type": "code",
   "execution_count": 27,
   "metadata": {},
   "outputs": [
    {
     "data": {
      "text/plain": [
       "<sqlite3.Cursor at 0x22342a34880>"
      ]
     },
     "execution_count": 27,
     "metadata": {},
     "output_type": "execute_result"
    }
   ],
   "source": [
    "c.execute(\"\"\"DROP TABLE actor_master_table;\"\"\")\n",
    "c.execute(\"\"\"CREATE TABLE actor_master_table(\n",
    "starcast_id INTEGER PRIMARY KEY,\n",
    "starcast_name CHAR NOT NULL);\"\"\") #creating a new tables within database"
   ]
  },
  {
   "cell_type": "code",
   "execution_count": 28,
   "metadata": {
    "collapsed": true
   },
   "outputs": [],
   "source": [
    "starcast_master_table.to_sql(\"starcast_master_table\", conn, if_exists = 'append', index = False) #Storing data frame to SQL database"
   ]
  },
  {
   "cell_type": "code",
   "execution_count": 29,
   "metadata": {},
   "outputs": [
    {
     "data": {
      "text/plain": [
       "<sqlite3.Cursor at 0x22342a34880>"
      ]
     },
     "execution_count": 29,
     "metadata": {},
     "output_type": "execute_result"
    }
   ],
   "source": [
    "c.execute(\"\"\"DROP TABLE director_master_table;\"\"\")\n",
    "c.execute(\"\"\"CREATE TABLE director_master_table(\n",
    "director_id INTEGER PRIMARY KEY,\n",
    "director_name CHAR NOT NULL);\"\"\") #creating a new tables within database"
   ]
  },
  {
   "cell_type": "code",
   "execution_count": 30,
   "metadata": {
    "collapsed": true
   },
   "outputs": [],
   "source": [
    "director_master_table.to_sql(\"director_master_table\", conn, if_exists = 'append', index = False) #Storing data frame to SQL database"
   ]
  },
  {
   "cell_type": "code",
   "execution_count": 31,
   "metadata": {},
   "outputs": [
    {
     "data": {
      "text/plain": [
       "<sqlite3.Cursor at 0x22342a34880>"
      ]
     },
     "execution_count": 31,
     "metadata": {},
     "output_type": "execute_result"
    }
   ],
   "source": [
    "c.execute(\"\"\"DROP TABLE genre_master_table;\"\"\")\n",
    "c.execute(\"\"\"CREATE TABLE genre_master_table(\n",
    "genre_id INTEGER PRIMARY KEY,\n",
    "genre CHAR NOT NULL);\"\"\") #creating a new tables within database"
   ]
  },
  {
   "cell_type": "code",
   "execution_count": 32,
   "metadata": {
    "collapsed": true
   },
   "outputs": [],
   "source": [
    "genre_master_table.to_sql(\"genre_master_table\", conn, if_exists = 'append', index = False) #Storing data frame to SQL database"
   ]
  },
  {
   "cell_type": "code",
   "execution_count": 33,
   "metadata": {},
   "outputs": [
    {
     "data": {
      "text/plain": [
       "<sqlite3.Cursor at 0x22342a34880>"
      ]
     },
     "execution_count": 33,
     "metadata": {},
     "output_type": "execute_result"
    }
   ],
   "source": [
    "c.execute(\"\"\"DROP TABLE posts_master_table;\"\"\")\n",
    "c.execute(\"\"\"CREATE TABLE posts_master_table(\n",
    "post_id CHAR PRIMARY KEY,\n",
    "created_at DATE,\n",
    "post_message CHAR,\n",
    "likes_count INTEGER,\n",
    "share_count INTEGER,\n",
    "comments_count INTEGER,\n",
    "user_engagement INTEGER) ;\"\"\") #creating a new tables within database"
   ]
  },
  {
   "cell_type": "code",
   "execution_count": 34,
   "metadata": {
    "collapsed": true
   },
   "outputs": [],
   "source": [
    "posts_master_table.to_sql(\"posts_master_table\", conn, if_exists = 'append', index = False) #Storing data frame to SQL database"
   ]
  },
  {
   "cell_type": "code",
   "execution_count": 35,
   "metadata": {},
   "outputs": [
    {
     "data": {
      "text/plain": [
       "<sqlite3.Cursor at 0x22342a34880>"
      ]
     },
     "execution_count": 35,
     "metadata": {},
     "output_type": "execute_result"
    }
   ],
   "source": [
    "c.execute(\"\"\"DROP TABLE comments_master_table;\"\"\")\n",
    "c.execute(\"\"\"CREATE TABLE comments_master_table(\n",
    "comments_id CHAR PRIMARY KEY,\n",
    "created_at DATE,\n",
    "comments CHAR);\"\"\") #creating a new tables within database"
   ]
  },
  {
   "cell_type": "code",
   "execution_count": 36,
   "metadata": {
    "collapsed": true
   },
   "outputs": [],
   "source": [
    "comments_master_table.to_sql(\"comments_master_table\", conn, if_exists = 'append', index = False) #Storing data frame to SQL database"
   ]
  },
  {
   "cell_type": "code",
   "execution_count": 37,
   "metadata": {},
   "outputs": [
    {
     "data": {
      "text/plain": [
       "<sqlite3.Cursor at 0x22342a34880>"
      ]
     },
     "execution_count": 37,
     "metadata": {},
     "output_type": "execute_result"
    }
   ],
   "source": [
    "c.execute(\"\"\"DROP TABLE tweets_master_table;\"\"\")\n",
    "c.execute(\"\"\"CREATE TABLE tweets_master_table(\n",
    "tweet_id INTEGER PRIMARY KEY,\n",
    "tweet_text CHAR,\n",
    "created_date DATE,\n",
    "retweet_count INTEGER);\"\"\") #creating a new tables within database"
   ]
  },
  {
   "cell_type": "code",
   "execution_count": 38,
   "metadata": {
    "collapsed": true
   },
   "outputs": [],
   "source": [
    "tweets_master_table.to_sql(\"tweets_master_table\", conn, if_exists = 'append', index = False) #Storing data frame to SQL database"
   ]
  },
  {
   "cell_type": "code",
   "execution_count": 45,
   "metadata": {},
   "outputs": [
    {
     "data": {
      "text/plain": [
       "<sqlite3.Cursor at 0x22342a34880>"
      ]
     },
     "execution_count": 45,
     "metadata": {},
     "output_type": "execute_result"
    }
   ],
   "source": [
    "c.execute(\"\"\"DROP TABLE twitter_user_table;\"\"\")\n",
    "c.execute(\"\"\"CREATE TABLE twitter_user_table(\n",
    "user_id INTEGER PRIMARY KEY,\n",
    "user_name CHAR);\"\"\") #creating a new tables within database"
   ]
  },
  {
   "cell_type": "code",
   "execution_count": 46,
   "metadata": {
    "collapsed": true
   },
   "outputs": [],
   "source": [
    "twitter_user_table.to_sql(\"twitter_user_table\", conn, if_exists = 'append', index = False) #Storing data frame to SQL database"
   ]
  },
  {
   "cell_type": "code",
   "execution_count": 66,
   "metadata": {
    "scrolled": true
   },
   "outputs": [
    {
     "data": {
      "text/plain": [
       "<sqlite3.Cursor at 0x22342a34880>"
      ]
     },
     "execution_count": 66,
     "metadata": {},
     "output_type": "execute_result"
    }
   ],
   "source": [
    "c.execute(\"\"\"DROP TABLE movie_tags;\"\"\")\n",
    "c.execute(\"\"\"CREATE TABLE movie_tags(\n",
    "movie_id INTEGER FOREIOGN KEY,\n",
    "word CHAR,\n",
    "score FLOAT);\"\"\") #creating a new table within database"
   ]
  },
  {
   "cell_type": "code",
   "execution_count": 67,
   "metadata": {
    "collapsed": true
   },
   "outputs": [],
   "source": [
    "tag_scores.to_sql(\"movie_tags\", conn, if_exists = \"append\", index = False) #storing dataframe to SQL database"
   ]
  },
  {
   "cell_type": "markdown",
   "metadata": {},
   "source": [
    "## Creating connection to the database\n",
    "\n",
    "Here, we are using SQLite database management system in order to create store and analyse our data. we create a relational database schema and store our data inside.\n"
   ]
  },
  {
   "cell_type": "code",
   "execution_count": 30,
   "metadata": {},
   "outputs": [
    {
     "data": {
      "text/plain": [
       "<sqlite3.Cursor at 0x221d3a4f0a0>"
      ]
     },
     "execution_count": 30,
     "metadata": {},
     "output_type": "execute_result"
    }
   ],
   "source": [
    "#c.execute(\"\"\"DROP TABLE movie_director_maping;\"\"\")\n",
    "c.execute(\"\"\"CREATE TABLE movie_director_maping(\n",
    "movie_id INTEGER FOREGION KEY,\n",
    "director_id INTEGER FOREGION KEY)\"\"\") #creating a new tables within database"
   ]
  },
  {
   "cell_type": "code",
   "execution_count": 31,
   "metadata": {
    "collapsed": true
   },
   "outputs": [],
   "source": [
    "movie_director_maping.to_sql(\"movie_director_maping\", conn, if_exists = 'append', index = False) #Storing data frame to SQL database"
   ]
  },
  {
   "cell_type": "code",
   "execution_count": 32,
   "metadata": {},
   "outputs": [
    {
     "data": {
      "text/plain": [
       "<sqlite3.Cursor at 0x221d3a4f0a0>"
      ]
     },
     "execution_count": 32,
     "metadata": {},
     "output_type": "execute_result"
    }
   ],
   "source": [
    "#c.execute(\"\"\"DROP TABLE movie_starcast_maping;\"\"\")\n",
    "c.execute(\"\"\"CREATE TABLE movie_actor_maping(\n",
    "movie_id INTEGER FOREGION KEY,\n",
    "starcast_id INTEGER FOREGION KEY)\"\"\") #creating a new tables within database"
   ]
  },
  {
   "cell_type": "code",
   "execution_count": 33,
   "metadata": {
    "collapsed": true
   },
   "outputs": [],
   "source": [
    "movie_starcast_maping.to_sql(\"movie_actor_maping\", conn, if_exists = 'append', index = False) #Storing data frame to SQL database"
   ]
  },
  {
   "cell_type": "code",
   "execution_count": 34,
   "metadata": {},
   "outputs": [
    {
     "data": {
      "text/plain": [
       "<sqlite3.Cursor at 0x221d3a4f0a0>"
      ]
     },
     "execution_count": 34,
     "metadata": {},
     "output_type": "execute_result"
    }
   ],
   "source": [
    "#c.execute(\"\"\"DROP TABLE movie_genre_maping;\"\"\")\n",
    "c.execute(\"\"\"CREATE TABLE movie_genre_maping(\n",
    "movie_id INTEGER FOREGION KEY,\n",
    "genre_id INTEGER FOREGION KEY)\"\"\") #creating a new tables within database"
   ]
  },
  {
   "cell_type": "code",
   "execution_count": 35,
   "metadata": {
    "collapsed": true
   },
   "outputs": [],
   "source": [
    "movie_genre_maping.to_sql(\"movie_genre_maping\", conn, if_exists = 'append', index = False) #Storing data frame to SQL database"
   ]
  },
  {
   "cell_type": "code",
   "execution_count": 36,
   "metadata": {},
   "outputs": [
    {
     "data": {
      "text/plain": [
       "<sqlite3.Cursor at 0x221d3a4f0a0>"
      ]
     },
     "execution_count": 36,
     "metadata": {},
     "output_type": "execute_result"
    }
   ],
   "source": [
    "#c.execute(\"\"\"DROP TABLE movie_post_maping;\"\"\")\n",
    "c.execute(\"\"\"CREATE TABLE movie_post_maping(\n",
    "movie_id INTEGER FOREGION KEY,\n",
    "post_id CHAR FOREGION KEY)\"\"\") #creating a new tables within database"
   ]
  },
  {
   "cell_type": "code",
   "execution_count": 37,
   "metadata": {
    "collapsed": true
   },
   "outputs": [],
   "source": [
    "movie_post_maping.to_sql(\"movie_post_maping\", conn, if_exists = 'append', index = False) #Storing data frame to SQL database"
   ]
  },
  {
   "cell_type": "code",
   "execution_count": 38,
   "metadata": {},
   "outputs": [
    {
     "data": {
      "text/plain": [
       "<sqlite3.Cursor at 0x221d3a4f0a0>"
      ]
     },
     "execution_count": 38,
     "metadata": {},
     "output_type": "execute_result"
    }
   ],
   "source": [
    "#c.execute(\"\"\"DROP TABLE post_comment_maping;\"\"\")\n",
    "c.execute(\"\"\"CREATE TABLE post_comment_maping(\n",
    "post_id CHAR FOREGION KEY,\n",
    "comments_id CHAR FOREGION KEY)\"\"\") #creating a new tables within database"
   ]
  },
  {
   "cell_type": "code",
   "execution_count": 39,
   "metadata": {
    "collapsed": true
   },
   "outputs": [],
   "source": [
    "post_comment_maping.to_sql(\"post_comment_maping\", conn, if_exists = 'append', index = False) #Storing data frame to SQL database"
   ]
  },
  {
   "cell_type": "code",
   "execution_count": 47,
   "metadata": {},
   "outputs": [
    {
     "data": {
      "text/plain": [
       "<sqlite3.Cursor at 0x22342a34880>"
      ]
     },
     "execution_count": 47,
     "metadata": {},
     "output_type": "execute_result"
    }
   ],
   "source": [
    "#c.execute(\"\"\"DROP TABLE movie_tweets_mapping;\"\"\")\n",
    "c.execute(\"\"\"CREATE TABLE movie_tweets_mapping(\n",
    "movie_id CHAR FOREGION KEY,\n",
    "tweet_id CHAR FOREGION KEY)\"\"\") #creating a new tables within database"
   ]
  },
  {
   "cell_type": "code",
   "execution_count": 48,
   "metadata": {
    "collapsed": true
   },
   "outputs": [],
   "source": [
    "movie_tweets_mapping.to_sql(\"movie_tweets_mapping\", conn, if_exists = 'append', index = False) #Storing data frame to SQL database"
   ]
  },
  {
   "cell_type": "code",
   "execution_count": 49,
   "metadata": {},
   "outputs": [
    {
     "data": {
      "text/plain": [
       "<sqlite3.Cursor at 0x22342a34880>"
      ]
     },
     "execution_count": 49,
     "metadata": {},
     "output_type": "execute_result"
    }
   ],
   "source": [
    "#c.execute(\"\"\"DROP TABLE tweets_user_mapping;\"\"\")\n",
    "c.execute(\"\"\"CREATE TABLE tweets_user_mapping(\n",
    "tweet_id CHAR FOREGION KEY,\n",
    "user_id CHAR FOREGION KEY)\"\"\") #creating a new tables within database"
   ]
  },
  {
   "cell_type": "code",
   "execution_count": 50,
   "metadata": {
    "collapsed": true
   },
   "outputs": [],
   "source": [
    "tweets_user_mapping.to_sql(\"tweets_user_mapping\", conn, if_exists = 'append', index = False) #Storing data frame to SQL database"
   ]
  },
  {
   "cell_type": "markdown",
   "metadata": {},
   "source": [
    "## Finding answers to the following questions using the data that we have collected and modelled.\n",
    "\n",
    "i. What are people saying about me (somebody)?\n",
    "\n",
    "    Retrieve the tags associated with a movie.\n",
    "    \n",
    "ii. How viral are my posts?\n",
    "    \n",
    "    Have my (Official Page of each movie) posts been shared, liked and commented on a lot?\n",
    "    \n",
    "iii. How much influence to my posts have?\n",
    "    \n",
    "    Which movies Official Page's posts have been shared the most number of times?\n",
    "    \n",
    "iv. What posts are like mine?\n",
    "    \n",
    "    Posts that use similar tags.\n",
    "    \n",
    "v. What users post like me?\n",
    "\n",
    "    Posts that use similar tags and post about similar topics.\n",
    "\n",
    "vi. Who should I be following?\n",
    "    \n",
    "    Who is posting a lot with the popular tags associated with me(Movie page)? This will increase my user engagement.\n",
    "\n",
    "vii. What topics are trending in my domain?\n",
    "       \n",
    "    What are the most popular terms that people have used in tweets? \n",
    "       \n",
    "viii. What keywords/ hashtags should I add to my post?\n",
    "    \n",
    "    What am I posting about? What are the popular tags related to that topic?\n",
    "    \n",
    "ix. Should I follow somebody back?\n",
    "    \n",
    "    Are we posting about similar topics? Do we have common friends? \n",
    "\n",
    "x. What is the best time to post?\n",
    "    \n",
    "    Calculate the user engagement, compare with posts posted at different times.\n",
    "    \n",
    "xi. Should I add and picture or url to my post?\n",
    "\n",
    "    Do posts with pictures and URLs get more user engagement?\n",
    "    \n",
    "xiii. What’s my reach?\n",
    "    \n",
    "    Have users other than my friends liked/ shared/ commented on my posts?"
   ]
  },
  {
   "cell_type": "markdown",
   "metadata": {},
   "source": [
    "# Question 1:\n",
    "## What are people saying about me?\n",
    " Retrieve the tags associated with a movie."
   ]
  },
  {
   "cell_type": "code",
   "execution_count": 73,
   "metadata": {},
   "outputs": [
    {
     "data": {
      "text/html": [
       "<div>\n",
       "<style>\n",
       "    .dataframe thead tr:only-child th {\n",
       "        text-align: right;\n",
       "    }\n",
       "\n",
       "    .dataframe thead th {\n",
       "        text-align: left;\n",
       "    }\n",
       "\n",
       "    .dataframe tbody tr th {\n",
       "        vertical-align: top;\n",
       "    }\n",
       "</style>\n",
       "<table border=\"1\" class=\"dataframe\">\n",
       "  <thead>\n",
       "    <tr style=\"text-align: right;\">\n",
       "      <th></th>\n",
       "      <th>movie_names</th>\n",
       "      <th>group_concat(word)</th>\n",
       "    </tr>\n",
       "  </thead>\n",
       "  <tbody>\n",
       "    <tr>\n",
       "      <th>0</th>\n",
       "      <td>12 Strong</td>\n",
       "      <td>passes,carload,starlitewichita,fri,open</td>\n",
       "    </tr>\n",
       "    <tr>\n",
       "      <th>1</th>\n",
       "      <td>A Futile and Stupid Gesture</td>\n",
       "      <td>afutileandstupidgesture,peterprincipato,mikeco...</td>\n",
       "    </tr>\n",
       "    <tr>\n",
       "      <th>2</th>\n",
       "      <td>Acts of Violence</td>\n",
       "      <td>actsofviolence,brucewillis,therealmikeepps,tra...</td>\n",
       "    </tr>\n",
       "    <tr>\n",
       "      <th>3</th>\n",
       "      <td>Annihilation</td>\n",
       "      <td>annihilation,bears,dmeishappy,paddington,netflix</td>\n",
       "    </tr>\n",
       "    <tr>\n",
       "      <th>4</th>\n",
       "      <td>Black Panther</td>\n",
       "      <td>blackpanther,theblackpanther,marvelstudios,wor...</td>\n",
       "    </tr>\n",
       "    <tr>\n",
       "      <th>5</th>\n",
       "      <td>Braven</td>\n",
       "      <td>braven,umbc,towson,beat,uva</td>\n",
       "    </tr>\n",
       "    <tr>\n",
       "      <th>6</th>\n",
       "      <td>Damsel</td>\n",
       "      <td>sinazomanazo,damsel,yoh,peacehochub,creating</td>\n",
       "    </tr>\n",
       "    <tr>\n",
       "      <th>7</th>\n",
       "      <td>Den of Thieves</td>\n",
       "      <td>denofthieves,l,gerardbutler,outlaws,power</td>\n",
       "    </tr>\n",
       "    <tr>\n",
       "      <th>8</th>\n",
       "      <td>Don't Worry, He Won't Get Far on Foot</td>\n",
       "      <td>None</td>\n",
       "    </tr>\n",
       "    <tr>\n",
       "      <th>9</th>\n",
       "      <td>Early Man</td>\n",
       "      <td>earlyman,aardman,thesimpleparent,visa,gc</td>\n",
       "    </tr>\n",
       "    <tr>\n",
       "      <th>10</th>\n",
       "      <td>Every Day</td>\n",
       "      <td>everyday,coo,mulloyabbey,schools,breaks</td>\n",
       "    </tr>\n",
       "    <tr>\n",
       "      <th>11</th>\n",
       "      <td>Fifty Shades Freed</td>\n",
       "      <td>fiftyshadesfreed,liampayne,dakota,amordakotaja...</td>\n",
       "    </tr>\n",
       "    <tr>\n",
       "      <th>12</th>\n",
       "      <td>Forever My Girl</td>\n",
       "      <td>forevermygirl,girl,emotional,started,meet</td>\n",
       "    </tr>\n",
       "    <tr>\n",
       "      <th>13</th>\n",
       "      <td>Game Night</td>\n",
       "      <td>gamenight,game,ijessewilliams,peoples,sahmreviews</td>\n",
       "    </tr>\n",
       "    <tr>\n",
       "      <th>14</th>\n",
       "      <td>Hereditary</td>\n",
       "      <td>hereditary,angioedema,ufclondon,indentured,ser...</td>\n",
       "    </tr>\n",
       "    <tr>\n",
       "      <th>15</th>\n",
       "      <td>Insidious: The Last Key</td>\n",
       "      <td>insidious,playful,punished,teachers,oppression</td>\n",
       "    </tr>\n",
       "    <tr>\n",
       "      <th>16</th>\n",
       "      <td>Irreplaceable You</td>\n",
       "      <td>irreplaceableyou,netflix,forever,irreplaceable...</td>\n",
       "    </tr>\n",
       "    <tr>\n",
       "      <th>17</th>\n",
       "      <td>Kickboxer: Retaliation</td>\n",
       "      <td>kickboxer,vengeance,widescreen,orgs,shaunbolen</td>\n",
       "    </tr>\n",
       "    <tr>\n",
       "      <th>18</th>\n",
       "      <td>Mandy</td>\n",
       "      <td>mandy,jillaynemc,amvetsupport,tbucsusmc,e</td>\n",
       "    </tr>\n",
       "    <tr>\n",
       "      <th>19</th>\n",
       "      <td>Maze Runner: The Death Cure</td>\n",
       "      <td>mazerunnermovie,dylanobrien,sangsterthomas,ksc...</td>\n",
       "    </tr>\n",
       "    <tr>\n",
       "      <th>20</th>\n",
       "      <td>Padmaavat</td>\n",
       "      <td>padmaavat,beheaded,joydas,education,cr</td>\n",
       "    </tr>\n",
       "    <tr>\n",
       "      <th>21</th>\n",
       "      <td>Peter Rabbit</td>\n",
       "      <td>peterrabbit,peter,rabbit,beatrixpotter,packs</td>\n",
       "    </tr>\n",
       "    <tr>\n",
       "      <th>22</th>\n",
       "      <td>Proud Mary</td>\n",
       "      <td>proudmary,caleb,african,afrojediii,mclaughlin</td>\n",
       "    </tr>\n",
       "    <tr>\n",
       "      <th>23</th>\n",
       "      <td>Red Sparrow</td>\n",
       "      <td>redsparrow,sparrow,palaceoftreason,lawrence,je...</td>\n",
       "    </tr>\n",
       "    <tr>\n",
       "      <th>24</th>\n",
       "      <td>Samson</td>\n",
       "      <td>sootyandsheldon,angelastillwell,confident,exho...</td>\n",
       "    </tr>\n",
       "    <tr>\n",
       "      <th>25</th>\n",
       "      <td>Scorched Earth</td>\n",
       "      <td>scorchedearth,joceh,moab,protect,davidaxelrod</td>\n",
       "    </tr>\n",
       "    <tr>\n",
       "      <th>26</th>\n",
       "      <td>Seeing Allred</td>\n",
       "      <td>gloriaallred,seeingallred,empowered,stronger,s...</td>\n",
       "    </tr>\n",
       "    <tr>\n",
       "      <th>27</th>\n",
       "      <td>The 15:17 to Paris</td>\n",
       "      <td>valid,dlswimdad,butterfly,kwa,dash</td>\n",
       "    </tr>\n",
       "    <tr>\n",
       "      <th>28</th>\n",
       "      <td>The Cloverfield Paradox</td>\n",
       "      <td>thecloverfieldparadox,netflix,cloverfield,que,...</td>\n",
       "    </tr>\n",
       "    <tr>\n",
       "      <th>29</th>\n",
       "      <td>The Commuter</td>\n",
       "      <td>thecommuter,liam,neeson,commuter,passageiro</td>\n",
       "    </tr>\n",
       "    <tr>\n",
       "      <th>30</th>\n",
       "      <td>The Mercy</td>\n",
       "      <td>themercy,sat,https</td>\n",
       "    </tr>\n",
       "    <tr>\n",
       "      <th>31</th>\n",
       "      <td>The Miseducation of Cameron Post</td>\n",
       "      <td>themiseducationofcameronpost,chloegmoretz,mone...</td>\n",
       "    </tr>\n",
       "    <tr>\n",
       "      <th>32</th>\n",
       "      <td>When We First Met</td>\n",
       "      <td>whenwefirstmet,netflix,adamdevine,aadaddario,a...</td>\n",
       "    </tr>\n",
       "    <tr>\n",
       "      <th>33</th>\n",
       "      <td>Winchester</td>\n",
       "      <td>winchester,va,hated,sam,dean</td>\n",
       "    </tr>\n",
       "    <tr>\n",
       "      <th>34</th>\n",
       "      <td>Zhuo yao ji 2</td>\n",
       "      <td>None</td>\n",
       "    </tr>\n",
       "  </tbody>\n",
       "</table>\n",
       "</div>"
      ],
      "text/plain": [
       "                              movie_names  \\\n",
       "0                               12 Strong   \n",
       "1             A Futile and Stupid Gesture   \n",
       "2                        Acts of Violence   \n",
       "3                            Annihilation   \n",
       "4                           Black Panther   \n",
       "5                                  Braven   \n",
       "6                                  Damsel   \n",
       "7                          Den of Thieves   \n",
       "8   Don't Worry, He Won't Get Far on Foot   \n",
       "9                               Early Man   \n",
       "10                              Every Day   \n",
       "11                     Fifty Shades Freed   \n",
       "12                        Forever My Girl   \n",
       "13                             Game Night   \n",
       "14                             Hereditary   \n",
       "15                Insidious: The Last Key   \n",
       "16                      Irreplaceable You   \n",
       "17                 Kickboxer: Retaliation   \n",
       "18                                  Mandy   \n",
       "19            Maze Runner: The Death Cure   \n",
       "20                              Padmaavat   \n",
       "21                           Peter Rabbit   \n",
       "22                             Proud Mary   \n",
       "23                            Red Sparrow   \n",
       "24                                 Samson   \n",
       "25                         Scorched Earth   \n",
       "26                          Seeing Allred   \n",
       "27                     The 15:17 to Paris   \n",
       "28                The Cloverfield Paradox   \n",
       "29                           The Commuter   \n",
       "30                              The Mercy   \n",
       "31       The Miseducation of Cameron Post   \n",
       "32                      When We First Met   \n",
       "33                             Winchester   \n",
       "34                          Zhuo yao ji 2   \n",
       "\n",
       "                                   group_concat(word)  \n",
       "0             passes,carload,starlitewichita,fri,open  \n",
       "1   afutileandstupidgesture,peterprincipato,mikeco...  \n",
       "2   actsofviolence,brucewillis,therealmikeepps,tra...  \n",
       "3    annihilation,bears,dmeishappy,paddington,netflix  \n",
       "4   blackpanther,theblackpanther,marvelstudios,wor...  \n",
       "5                         braven,umbc,towson,beat,uva  \n",
       "6        sinazomanazo,damsel,yoh,peacehochub,creating  \n",
       "7           denofthieves,l,gerardbutler,outlaws,power  \n",
       "8                                                None  \n",
       "9            earlyman,aardman,thesimpleparent,visa,gc  \n",
       "10            everyday,coo,mulloyabbey,schools,breaks  \n",
       "11  fiftyshadesfreed,liampayne,dakota,amordakotaja...  \n",
       "12          forevermygirl,girl,emotional,started,meet  \n",
       "13  gamenight,game,ijessewilliams,peoples,sahmreviews  \n",
       "14  hereditary,angioedema,ufclondon,indentured,ser...  \n",
       "15     insidious,playful,punished,teachers,oppression  \n",
       "16  irreplaceableyou,netflix,forever,irreplaceable...  \n",
       "17     kickboxer,vengeance,widescreen,orgs,shaunbolen  \n",
       "18          mandy,jillaynemc,amvetsupport,tbucsusmc,e  \n",
       "19  mazerunnermovie,dylanobrien,sangsterthomas,ksc...  \n",
       "20             padmaavat,beheaded,joydas,education,cr  \n",
       "21       peterrabbit,peter,rabbit,beatrixpotter,packs  \n",
       "22      proudmary,caleb,african,afrojediii,mclaughlin  \n",
       "23  redsparrow,sparrow,palaceoftreason,lawrence,je...  \n",
       "24  sootyandsheldon,angelastillwell,confident,exho...  \n",
       "25      scorchedearth,joceh,moab,protect,davidaxelrod  \n",
       "26  gloriaallred,seeingallred,empowered,stronger,s...  \n",
       "27                 valid,dlswimdad,butterfly,kwa,dash  \n",
       "28  thecloverfieldparadox,netflix,cloverfield,que,...  \n",
       "29        thecommuter,liam,neeson,commuter,passageiro  \n",
       "30                                 themercy,sat,https  \n",
       "31  themiseducationofcameronpost,chloegmoretz,mone...  \n",
       "32  whenwefirstmet,netflix,adamdevine,aadaddario,a...  \n",
       "33                       winchester,va,hated,sam,dean  \n",
       "34                                               None  "
      ]
     },
     "execution_count": 73,
     "metadata": {},
     "output_type": "execute_result"
    }
   ],
   "source": [
    "pd.read_sql_query(\"\"\"SELECT movie_names, group_concat(word) \n",
    "FROM movie_tags as mt, movie_master_table as mmt \n",
    "WHERE mmt.movie_id == mt.movie_id GROUP BY movie_names\"\"\",conn)"
   ]
  },
  {
   "cell_type": "markdown",
   "metadata": {},
   "source": [
    "# Question 2:\n",
    "\n",
    "## What topics are trending?\n",
    "\n",
    "We are answring this question by searching through the scores of all the tags in relation to the text from all the other movies."
   ]
  },
  {
   "cell_type": "code",
   "execution_count": 83,
   "metadata": {},
   "outputs": [
    {
     "data": {
      "text/html": [
       "<div>\n",
       "<style>\n",
       "    .dataframe thead tr:only-child th {\n",
       "        text-align: right;\n",
       "    }\n",
       "\n",
       "    .dataframe thead th {\n",
       "        text-align: left;\n",
       "    }\n",
       "\n",
       "    .dataframe tbody tr th {\n",
       "        vertical-align: top;\n",
       "    }\n",
       "</style>\n",
       "<table border=\"1\" class=\"dataframe\">\n",
       "  <thead>\n",
       "    <tr style=\"text-align: right;\">\n",
       "      <th></th>\n",
       "      <th>word</th>\n",
       "      <th>score</th>\n",
       "    </tr>\n",
       "  </thead>\n",
       "  <tbody>\n",
       "    <tr>\n",
       "      <th>0</th>\n",
       "      <td>None</td>\n",
       "      <td>2.456736</td>\n",
       "    </tr>\n",
       "    <tr>\n",
       "      <th>1</th>\n",
       "      <td>None</td>\n",
       "      <td>2.456736</td>\n",
       "    </tr>\n",
       "    <tr>\n",
       "      <th>2</th>\n",
       "      <td>mazerunnermovie</td>\n",
       "      <td>0.301284</td>\n",
       "    </tr>\n",
       "    <tr>\n",
       "      <th>3</th>\n",
       "      <td>dylanobrien</td>\n",
       "      <td>0.301284</td>\n",
       "    </tr>\n",
       "    <tr>\n",
       "      <th>4</th>\n",
       "      <td>sangsterthomas</td>\n",
       "      <td>0.301284</td>\n",
       "    </tr>\n",
       "    <tr>\n",
       "      <th>5</th>\n",
       "      <td>kickboxer</td>\n",
       "      <td>0.173467</td>\n",
       "    </tr>\n",
       "    <tr>\n",
       "      <th>6</th>\n",
       "      <td>sinazomanazo</td>\n",
       "      <td>0.168365</td>\n",
       "    </tr>\n",
       "  </tbody>\n",
       "</table>\n",
       "</div>"
      ],
      "text/plain": [
       "              word     score\n",
       "0             None  2.456736\n",
       "1             None  2.456736\n",
       "2  mazerunnermovie  0.301284\n",
       "3      dylanobrien  0.301284\n",
       "4   sangsterthomas  0.301284\n",
       "5        kickboxer  0.173467\n",
       "6     sinazomanazo  0.168365"
      ]
     },
     "execution_count": 83,
     "metadata": {},
     "output_type": "execute_result"
    }
   ],
   "source": [
    "pd.read_sql_query(\"\"\"SELECT word,score\n",
    "FROM movie_tags as mt ORDER BY mt.score DESC LIMIT 7\n",
    "\"\"\",conn)"
   ]
  },
  {
   "cell_type": "markdown",
   "metadata": {},
   "source": [
    "# Question 3:\n",
    "\n",
    "## How viral are my posts?\n",
    "\n",
    "Have my (Official Page of each movie) posts been shared, liked and commented on a lot on Facebook?"
   ]
  },
  {
   "cell_type": "code",
   "execution_count": 95,
   "metadata": {},
   "outputs": [
    {
     "data": {
      "text/html": [
       "<div>\n",
       "<style>\n",
       "    .dataframe thead tr:only-child th {\n",
       "        text-align: right;\n",
       "    }\n",
       "\n",
       "    .dataframe thead th {\n",
       "        text-align: left;\n",
       "    }\n",
       "\n",
       "    .dataframe tbody tr th {\n",
       "        vertical-align: top;\n",
       "    }\n",
       "</style>\n",
       "<table border=\"1\" class=\"dataframe\">\n",
       "  <thead>\n",
       "    <tr style=\"text-align: right;\">\n",
       "      <th></th>\n",
       "      <th>movie_names</th>\n",
       "      <th>viral</th>\n",
       "    </tr>\n",
       "  </thead>\n",
       "  <tbody>\n",
       "    <tr>\n",
       "      <th>0</th>\n",
       "      <td>Black Panther</td>\n",
       "      <td>129103</td>\n",
       "    </tr>\n",
       "    <tr>\n",
       "      <th>1</th>\n",
       "      <td>12 Strong</td>\n",
       "      <td>115511</td>\n",
       "    </tr>\n",
       "    <tr>\n",
       "      <th>2</th>\n",
       "      <td>Den of Thieves</td>\n",
       "      <td>82694</td>\n",
       "    </tr>\n",
       "    <tr>\n",
       "      <th>3</th>\n",
       "      <td>Winchester</td>\n",
       "      <td>66585</td>\n",
       "    </tr>\n",
       "    <tr>\n",
       "      <th>4</th>\n",
       "      <td>Padmaavat</td>\n",
       "      <td>61020</td>\n",
       "    </tr>\n",
       "  </tbody>\n",
       "</table>\n",
       "</div>"
      ],
      "text/plain": [
       "      movie_names   viral\n",
       "0   Black Panther  129103\n",
       "1       12 Strong  115511\n",
       "2  Den of Thieves   82694\n",
       "3      Winchester   66585\n",
       "4       Padmaavat   61020"
      ]
     },
     "execution_count": 95,
     "metadata": {},
     "output_type": "execute_result"
    }
   ],
   "source": [
    "pd.read_sql_query(\"\"\" SELECT movie_names, SUM(user_engagement) as viral\n",
    "FROM movie_master_table mmt\n",
    "JOIN movie_post_maping mpm ON mmt.movie_id = mpm.movie_id\n",
    "JOIN posts_master_table pmt ON mpm.post_id = pmt.post_id\n",
    "GROUP BY mmt.movie_names\n",
    "ORDER BY viral DESC;\"\"\", conn).head()"
   ]
  },
  {
   "cell_type": "markdown",
   "metadata": {},
   "source": [
    "# Question 4:\n",
    "\n",
    "## How much influence do my posts have?\n",
    "\n",
    "Which movies Official Page's posts have been shared the most number of times?"
   ]
  },
  {
   "cell_type": "code",
   "execution_count": 94,
   "metadata": {},
   "outputs": [
    {
     "data": {
      "text/html": [
       "<div>\n",
       "<style>\n",
       "    .dataframe thead tr:only-child th {\n",
       "        text-align: right;\n",
       "    }\n",
       "\n",
       "    .dataframe thead th {\n",
       "        text-align: left;\n",
       "    }\n",
       "\n",
       "    .dataframe tbody tr th {\n",
       "        vertical-align: top;\n",
       "    }\n",
       "</style>\n",
       "<table border=\"1\" class=\"dataframe\">\n",
       "  <thead>\n",
       "    <tr style=\"text-align: right;\">\n",
       "      <th></th>\n",
       "      <th>movie_names</th>\n",
       "      <th>total_shares</th>\n",
       "    </tr>\n",
       "  </thead>\n",
       "  <tbody>\n",
       "    <tr>\n",
       "      <th>0</th>\n",
       "      <td>12 Strong</td>\n",
       "      <td>18934</td>\n",
       "    </tr>\n",
       "    <tr>\n",
       "      <th>1</th>\n",
       "      <td>Black Panther</td>\n",
       "      <td>15124</td>\n",
       "    </tr>\n",
       "    <tr>\n",
       "      <th>2</th>\n",
       "      <td>Winchester</td>\n",
       "      <td>14338</td>\n",
       "    </tr>\n",
       "    <tr>\n",
       "      <th>3</th>\n",
       "      <td>Den of Thieves</td>\n",
       "      <td>11991</td>\n",
       "    </tr>\n",
       "    <tr>\n",
       "      <th>4</th>\n",
       "      <td>When We First Met</td>\n",
       "      <td>6967</td>\n",
       "    </tr>\n",
       "    <tr>\n",
       "      <th>5</th>\n",
       "      <td>Fifty Shades Freed</td>\n",
       "      <td>4803</td>\n",
       "    </tr>\n",
       "    <tr>\n",
       "      <th>6</th>\n",
       "      <td>Insidious: The Last Key</td>\n",
       "      <td>4205</td>\n",
       "    </tr>\n",
       "  </tbody>\n",
       "</table>\n",
       "</div>"
      ],
      "text/plain": [
       "               movie_names  total_shares\n",
       "0                12 Strong         18934\n",
       "1            Black Panther         15124\n",
       "2               Winchester         14338\n",
       "3           Den of Thieves         11991\n",
       "4        When We First Met          6967\n",
       "5       Fifty Shades Freed          4803\n",
       "6  Insidious: The Last Key          4205"
      ]
     },
     "execution_count": 94,
     "metadata": {},
     "output_type": "execute_result"
    }
   ],
   "source": [
    "pd.read_sql_query(\"\"\" SELECT movie_names, SUM(share_count) as total_shares\n",
    "FROM movie_master_table mmt\n",
    "JOIN movie_post_maping mpm ON mmt.movie_id = mpm.movie_id\n",
    "JOIN posts_master_table pmt ON mpm.post_id = pmt.post_id\n",
    "GROUP BY mmt.movie_names\n",
    "ORDER BY total_shares DESC LIMIT 7;\"\"\", conn)"
   ]
  }
 ],
 "metadata": {
  "kernelspec": {
   "display_name": "Python 2",
   "language": "python",
   "name": "python2"
  },
  "language_info": {
   "codemirror_mode": {
    "name": "ipython",
    "version": 2
   },
   "file_extension": ".py",
   "mimetype": "text/x-python",
   "name": "python",
   "nbconvert_exporter": "python",
   "pygments_lexer": "ipython2",
   "version": "2.7.14"
  }
 },
 "nbformat": 4,
 "nbformat_minor": 2
}
